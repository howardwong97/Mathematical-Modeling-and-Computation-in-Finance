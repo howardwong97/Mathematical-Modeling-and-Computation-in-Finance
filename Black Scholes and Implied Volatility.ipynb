{
 "cells": [
  {
   "cell_type": "code",
   "execution_count": 1,
   "metadata": {},
   "outputs": [],
   "source": [
    "import numpy as np\n",
    "from scipy.stats import norm"
   ]
  },
  {
   "cell_type": "code",
   "execution_count": 2,
   "metadata": {},
   "outputs": [],
   "source": [
    "class BlackScholesPricer:\n",
    "    def __init__(self, S0, r, sigma, T, K):\n",
    "        self.S0, self.r, self.sigma, self.T, self.K = S0, r, sigma, T, K\n",
    "        self.d1 = self.calc_d1()\n",
    "        self.d2 = self.d1 - self.sigma * np.sqrt(self.T)\n",
    "        self.call_price = self.calc_call_price()\n",
    "        self.put_price = self.calc_put_price()\n",
    "        self.call_delta = self.calc_call_delta()\n",
    "        self.put_delta = self.calc_put_delta()\n",
    "        \n",
    "    def calc_d1(self):\n",
    "        num = np.log(self.S0 / self.K) + (self.r + 0.5 * self.sigma**2) * (self.T)\n",
    "        denom = self.sigma * np.sqrt(self.T)\n",
    "        return num / denom\n",
    "    \n",
    "    def calc_call_price(self):\n",
    "        return self.S0 * norm.cdf(self.d1) - self.K * np.exp(-self.r * self.T) * norm.cdf(self.d2)\n",
    "    \n",
    "    def calc_put_price(self):\n",
    "        return self.K * np.exp(-self.r * self.T) * norm.cdf(-self.d2) - self.S0 * norm.cdf(-self.d1)\n",
    "    \n",
    "    def calc_call_delta(self):\n",
    "        return norm.cdf(self.d1)\n",
    "    \n",
    "    def calc_put_delta(self):\n",
    "        return norm.cdf(self.d1) - 1\n",
    "    \n",
    "\n",
    "class ImpliedVolatility:\n",
    "    def __init__(self, V_call, S0, r, T, K):\n",
    "        self.V_call, self.S0, self.r, self.T, self.K = V_call, S0, r, T, K\n",
    "        self.sigma = None\n",
    "        self.price = None\n",
    "        \n",
    "    def g_func(self, sigma_imp):\n",
    "        return self.V_call - BlackScholesPricer(self.S0, self.r, sigma_imp, self.T, self.K).call_price\n",
    "\n",
    "    def calc_d2(self, sigma_imp):\n",
    "        return (np.log(self.S0 / self.K) + (self.r - 0.5*sigma_imp**2) * self.T) / (sigma_imp * np.sqrt(self.T))\n",
    "\n",
    "    def g_prime_func(self, sigma_imp):\n",
    "        return -self.K * np.exp(-self.r * self.T) * norm.cdf(self.calc_d2(sigma_imp)) * np.sqrt(self.T)\n",
    "    \n",
    "    def run_newton_raphson(self, initial_guess, eps=1e-9):\n",
    "        sigma = initial_guess\n",
    "        \n",
    "        while True:\n",
    "            sigma_current = sigma - self.g_func(sigma) / self.g_prime_func(sigma)\n",
    "            \n",
    "            if abs(sigma_current - sigma) <= eps:\n",
    "                self.sigma = sigma_current\n",
    "                self.price = BlackScholesPricer(self.S0, self.r, self.sigma, self.T, self.K).call_price\n",
    "                return self.price, self.sigma\n",
    "            else:\n",
    "                sigma = sigma_current"
   ]
  },
  {
   "cell_type": "code",
   "execution_count": 5,
   "metadata": {},
   "outputs": [
    {
     "data": {
      "text/plain": [
       "0.1614827288413943"
      ]
     },
     "execution_count": 5,
     "metadata": {},
     "output_type": "execute_result"
    }
   ],
   "source": [
    "S0 = 100\n",
    "r = 0.05\n",
    "T = 1\n",
    "K = 120\n",
    "V_call = 2\n",
    "\n",
    "iv = ImpliedVolatility(V_call, S0, r, T, K)\n",
    "\n",
    "from scipy.optimize import newton\n",
    "\n",
    "x0 = 0.2\n",
    "\n",
    "model = newton(iv.g_func, x0)\n",
    "model"
   ]
  },
  {
   "cell_type": "code",
   "execution_count": 3,
   "metadata": {},
   "outputs": [
    {
     "name": "stdout",
     "output_type": "stream",
     "text": [
      "European Call Price: 10.805973916005627\n",
      "European Call Delta: 0.4479652220468224\n",
      "European Put Price: 24.95350485609132\n",
      "European Put Delta: -0.5520347779531776\n"
     ]
    }
   ],
   "source": [
    "# Pricing a call\n",
    "S0 = 100\n",
    "r = 0.05\n",
    "T = 1\n",
    "K = 120\n",
    "sigma = 0.4\n",
    "\n",
    "bs = BlackScholesPricer(S0, r, sigma, T, K)\n",
    "print('European Call Price:', bs.call_price)\n",
    "print('European Call Delta:', bs.call_delta)\n",
    "print('European Put Price:', bs.put_price)\n",
    "print('European Put Delta:', bs.put_delta)"
   ]
  },
  {
   "cell_type": "markdown",
   "metadata": {},
   "source": [
    "# Put-Call Parity\n",
    "\n",
    "$$ V_c(t,S) = V_p(t,S) + S(t) - Ke^{-r(T-t)} $$"
   ]
  },
  {
   "cell_type": "code",
   "execution_count": 4,
   "metadata": {},
   "outputs": [
    {
     "data": {
      "text/plain": [
       "True"
      ]
     },
     "execution_count": 4,
     "metadata": {},
     "output_type": "execute_result"
    }
   ],
   "source": [
    "rhs = bs.put_price + S0 - K*np.exp(-r * T)\n",
    "rhs==bs.call_price"
   ]
  },
  {
   "cell_type": "markdown",
   "metadata": {},
   "source": [
    "# Newton Raphson Iterative Method for Computing Implied Volatility"
   ]
  },
  {
   "cell_type": "code",
   "execution_count": 5,
   "metadata": {},
   "outputs": [
    {
     "data": {
      "text/plain": [
       "(2.000000004563198, 0.16148272899165422)"
      ]
     },
     "execution_count": 5,
     "metadata": {},
     "output_type": "execute_result"
    }
   ],
   "source": [
    "S0 = 100\n",
    "r = 0.05\n",
    "T = 1\n",
    "K = 120\n",
    "V_call = 2\n",
    "\n",
    "iv_model = ImpliedVolatility(V_call, S0, r, T, K)\n",
    "iv_model.run_newton_raphson(initial_guess=0.1)"
   ]
  },
  {
   "cell_type": "markdown",
   "metadata": {},
   "source": [
    "# Hagan Interpolation"
   ]
  },
  {
   "cell_type": "code",
   "execution_count": 10,
   "metadata": {},
   "outputs": [],
   "source": [
    "class HaganImpliedVolatility:\n",
    "    def __init__(self, K, T, S_forward, alpha, beta, rho, gamma):\n",
    "        self.K = list(K)\n",
    "        self.T = T\n",
    "        self.S_forward = S_forward\n",
    "        self.alpha, self.beta, self.rho, self.gamma = alpha, beta, rho, gamma\n",
    "        self.sigma = self.sigma_hat()\n",
    "        \n",
    "    def a_hat(self, strike):\n",
    "        return self.alpha / ((self.S_forward * strike)**((1 - self.beta) / 2) *\\\n",
    "                             (1 + (1 - self.beta)**2 / 24 * (np.log(self.S_forward / strike))**2 +\\\n",
    "                             (1 - self.beta)**4 / 1920 * (np.log(self.S_forward / strike))**4))\n",
    "    \n",
    "    def c_hat(self, strike):\n",
    "        return self.gamma / self.alpha * (self.S_forward * strike)**((1 - self.beta) / 2) * np.log(self.S_forward / strike)\n",
    "    \n",
    "    def g_func(self, x):\n",
    "        return np.log((np.sqrt(1 - 2 * self.rho * x + x**2) + x - self.rho) / (1 - self.rho))\n",
    "    \n",
    "    def sigma_hat(self):\n",
    "        sigma_list = []\n",
    "        \n",
    "        for strike in self.K:\n",
    "            if strike==self.S_forward:\n",
    "                s_value = self.alpha / self.S_forward**(1 - self.beta) * (\n",
    "                    1 + self.T*((1 - self.beta)**2 / 24 * self.alpha**2 / self.S_forward**(2 - 2*self.beta) +\\\n",
    "                                0.25 * self.rho*self.beta*self.alpha*self.gamma / self.S_forward**(1 - self.beta) +\\\n",
    "                                (2 - 3*self.rho**2) / 24 * self.gamma**2\n",
    "                               )\n",
    "                )\n",
    "                sigma_list.append(s_value)\n",
    "            else:\n",
    "                first_prod = self.a_hat(strike) * self.c_hat(strike) / self.g_func(self.c_hat(strike))\n",
    "                second_prod = 1 + self.T*((1 - self.beta)**2 / 24*self.alpha**2 / (self.S_forward * strike)**(1 - self.beta) +\\\n",
    "                                0.25*(self.rho*self.beta*self.gamma*self.alpha) / (self.S_forward * strike)**((1 - self.beta) / 2) +\\\n",
    "                                (2 - 3*self.rho**2) / 24*self.gamma**2)\n",
    "                sigma_list.append(first_prod * second_prod)\n",
    "            \n",
    "        return np.array(sigma_list)\n",
    "    \n",
    "# params = [alpha, rho, gamma], fix beta=0.5\n",
    "\n",
    "def minimize_func(params, implied_vols, K, T, S_forward):\n",
    "    alpha, rho, gamma = params\n",
    "    beta = 0.5\n",
    "    model = HaganImpliedVolatility(K, T, S_forward, alpha, beta, rho, gamma)\n",
    "    sigma_hats = model.sigma\n",
    "    \n",
    "    return np.sum(abs(sigma_hats - implied_vols))"
   ]
  },
  {
   "cell_type": "code",
   "execution_count": 12,
   "metadata": {
    "scrolled": false
   },
   "outputs": [
    {
     "data": {
      "image/png": "[encoded data removed]",
      "text/plain": [
       "<Figure size 864x576 with 1 Axes>"
      ]
     },
     "metadata": {
      "needs_background": "light"
     },
     "output_type": "display_data"
    }
   ],
   "source": [
    "from scipy.optimize import minimize\n",
    "\n",
    "initial_params = [0.5, 0.5, 0.5]  # alpha, rho, gamma\n",
    "\n",
    "# ATM is K=131.5, which means S_F(t_0) = 131.5 (forward stock price)\n",
    "strikes = np.array([110.0, 121.3, 131.5, 140.9, 151.4])\n",
    "implied_vols = np.array([14.2, 11.8, 10.3, 10.0, 10.7]) / 100\n",
    "S_forward = 131.5\n",
    "T = 1\n",
    "\n",
    "result = minimize(\n",
    "    minimize_func,\n",
    "    initial_params,\n",
    "    method='nelder-mead',\n",
    "    options={'xtol': 1e-11},\n",
    "    args=(implied_vols, strikes, T, S_forward)\n",
    ")\n",
    "\n",
    "alpha, rho, gamma = result.x\n",
    "beta = 0.5\n",
    "\n",
    "# Plot for different strikes\n",
    "Ks = np.arange(100, 160+0.1, 0.1)\n",
    "ivs = HaganImpliedVolatility(Ks, 1, S_forward, alpha, beta, rho, gamma).sigma\n",
    "\n",
    "import matplotlib.pyplot as plt\n",
    "\n",
    "plt.figure(figsize=(12, 8))\n",
    "plt.plot(Ks, ivs*100)\n",
    "for k, vol in zip(strikes, implied_vols*100):\n",
    "    plt.plot(k, vol, marker='o', markersize=5, color='red')\n",
    "    \n",
    "plt.legend(['Interpolated Curve', 'Data'])\n",
    "plt.title('Implied Volatility using Hagan Interpolation')\n",
    "plt.xlabel('Strike, K')\n",
    "plt.ylabel('Implied Volatility (%)')\n",
    "plt.grid()"
   ]
  },
  {
   "cell_type": "code",
   "execution_count": 1,
   "metadata": {},
   "outputs": [
    {
     "ename": "SyntaxError",
     "evalue": "invalid syntax (Temp/ipykernel_24316/4140831094.py, line 13)",
     "output_type": "error",
     "traceback": [
      "\u001b[1;36m  File \u001b[1;32m\"C:\\Users\\howar\\AppData\\Local\\Temp/ipykernel_24316/4140831094.py\"\u001b[1;36m, line \u001b[1;32m13\u001b[0m\n\u001b[1;33m    d2w_dx2 = lambda x, t = 2 * t * ds_dx**2\u001b[0m\n\u001b[1;37m                                            ^\u001b[0m\n\u001b[1;31mSyntaxError\u001b[0m\u001b[1;31m:\u001b[0m invalid syntax\n"
     ]
    }
   ],
   "source": [
    "def SABR_local_variance(x, t, s0, forward, alpha, beta, rho, gamma):\n",
    "    dt = 0.001\n",
    "    dx = 0.001\n",
    "    \n",
    "    sigma = lambda x, t: HaganImpliedVolatility(x, t, forward, alpha, beta, rho, gamma).sigma\n",
    "    ds_dt = lambda x, t: (sigma(x, t+dt) - sigma(x, t)) / dt  # forward difference\n",
    "    ds_dx = lambda x, t: (sigma(x+dx, t) - sigma(x-dx, t)) / (2 * dx)  # central difference\n",
    "    d2s_dx2 = lambda x, t: (sigma(x+dx, t) - 2*sigma(x, t) + sigma(x-dx, t)) / (dx**2)\n",
    "    \n",
    "    w = lambda x, t: sigma(x, t) * sigma(x, t)*t\n",
    "    dw_dt = lambda x, t: sigma(x, t)**2 + 2 * t * sigma(x, t) * ds_dt(x, t)\n",
    "    dw_dx = lambda x, t: 2 * t * sigma(x, t) * ds_dx(x, t)\n",
    "    d2w_dx2 = lambda x, t: 2 * t * ds_dx**2\n",
    "    \n",
    "    term1 = lambda x, t: dw_dt(x, t) + r"
   ]
  },
  {
   "cell_type": "code",
   "execution_count": null,
   "metadata": {},
   "outputs": [],
   "source": []
  }
 ],
 "metadata": {
  "kernelspec": {
   "display_name": "Python 3 (ipykernel)",
   "language": "python",
   "name": "python3"
  },
  "language_info": {
   "codemirror_mode": {
    "name": "ipython",
    "version": 3
   },
   "file_extension": ".py",
   "mimetype": "text/x-python",
   "name": "python",
   "nbconvert_exporter": "python",
   "pygments_lexer": "ipython3",
   "version": "3.8.11"
  }
 },
 "nbformat": 4,
 "nbformat_minor": 4
}
