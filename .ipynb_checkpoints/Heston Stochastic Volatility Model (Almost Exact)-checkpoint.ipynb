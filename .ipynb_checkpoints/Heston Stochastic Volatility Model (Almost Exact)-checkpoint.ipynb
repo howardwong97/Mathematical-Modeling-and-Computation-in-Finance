{
 "cells": [
  {
   "cell_type": "markdown",
   "id": "236cac49",
   "metadata": {},
   "source": [
    "$$\n",
    "\\begin{cases}\n",
    "dX(t) = \\left( (r - \\frac{1}{2}v(t) \\right)dt + \\sqrt{v(t)} \\left[ \\rho_{x,v}d\\tilde{W}_v(t) + \\sqrt{1 - \\rho_{x,v}^2} d\\tilde{W}_x(t)\\right]\\\\\n",
    "dv(t) = \\kappa(\\bar{v} - v(t))dt + \\gamma \\sqrt{v(t)} d\\tilde{W}_v(t)\n",
    "\\end{cases}\n",
    "$$\n",
    "\n",
    "Applying discretisation scheme:\n",
    "\n",
    "$$\n",
    "\\begin{cases}\n",
    "x_{i+1} \\approx x_i + k_0 + k_1v_i + k_2v_{i+1} + \\sqrt{k_3v_i} Z_x\\\\\n",
    "v_{i+1} = \\bar{c}(t_{i+1}, t_i) \\chi^2(\\delta, \\bar{\\kappa}(t_{i+1}, t_i))\n",
    "\\end{cases}\n",
    "$$\n",
    "\n",
    "With:\n",
    "\n",
    "$$\n",
    "\\bar{c}(t_{i+1}, t_i) = \\frac{\\gamma^2}{4\\kappa}\\left(1 - e^{-\\kappa(t_{i+1} - t_i)}\\right), \\quad \\delta = \\frac{4\\kappa \\bar{v}}{\\gamma^2}, \\quad \\bar{\\kappa}(t_{i+1}, t_i) = \\frac{4\\kappa e^{-\\kappa\\Delta t}}{\\gamma^2 \\left(1 - e^{-\\kappa\\Delta t}\\right)}v_i\n",
    "$$\n",
    "\n",
    "and:\n",
    "\n",
    "$$\n",
    "k_0 = \\left(r - \\frac{\\rho_{x,v}}{\\gamma}\\kappa\\bar{v}\\right)\\Delta t, \\quad k_1 = \\left( \\frac{\\rho_{x,v}\\kappa}{\\gamma} - \\frac{1}{2} \\right)\\Delta t - \\frac{\\rho_{x,v}}{\\gamma}, \\quad k_2 = \\frac{\\rho_{x,v}}{\\gamma}, \\quad k_3 = (1 - \\rho_{x,v}^2)\\Delta t\n",
    "$$"
   ]
  },
  {
   "cell_type": "code",
   "execution_count": 15,
   "id": "43b82dd6",
   "metadata": {},
   "outputs": [],
   "source": [
    "import numpy as np\n",
    "from scipy.stats import ncx2\n",
    "import matplotlib.pyplot as plt\n",
    "\n",
    "\n",
    "def calc_c_bar(t2, t1, gamma, kappa):\n",
    "    return gamma**2 / (4 * kappa) * (1 - np.exp(-kappa * (t2 - t1)))\n",
    "\n",
    "\n",
    "def calc_delta(kappa, vbar, gamma):\n",
    "    return 4 * kappa * vbar / gamma**2\n",
    "\n",
    "\n",
    "def calc_kappa_bar(t2, t1, kappa, gamma, v1):\n",
    "    numerator = 4 * kappa * np.exp(-kappa * (t2 - t1)) * v1\n",
    "    denominator = gamma**2 * (1 - np.exp(-kappa * (t2 - t1)))\n",
    "    return numerator / denominator\n",
    "\n",
    "\n",
    "def calc_k0(r, rho, gamma, kappa, vbar, dt):\n",
    "    return (r - rho / gamma * kappa * vbar) * dt\n",
    "\n",
    "\n",
    "def calc_k1(rho, kappa, gamma, dt):\n",
    "    return ((rho * kappa) / gamma - 1/2) *dt - rho / gamma\n",
    "\n",
    "\n",
    "def calc_k2(rho, gamma):\n",
    "    return rho / gamma\n",
    "\n",
    "\n",
    "def calc_k3(rho, dt):\n",
    "    return (1 - rho**2) * dt\n",
    "\n",
    "\n",
    "S0 = 100\n",
    "kappa = 0.5\n",
    "gamma = 1\n",
    "vbar = 0.04\n",
    "v0 = 0.04\n",
    "r = 0.1\n",
    "rho = -0.9\n",
    "T = 1"
   ]
  },
  {
   "cell_type": "code",
   "execution_count": 8,
   "id": "ec2c7305",
   "metadata": {},
   "outputs": [],
   "source": [
    "n_paths = 10000\n",
    "n_steps = 1000\n",
    "\n",
    "dt = T / n_steps\n",
    "\n",
    "Z = np.random.normal(0, 1, [n_paths, n_steps+1])\n",
    "X = np.zeros([n_paths, n_steps+1])\n",
    "V = X.copy()\n",
    "\n",
    "X[:, 0] = np.log(S0)\n",
    "V[:, 0] = v0\n",
    "t = np.zeros(n_steps+1)\n",
    "\n",
    "delta = calc_delta(kappa, vbar, gamma)\n",
    "k0 = calc_k0(r, rho, gamma, kappa, vbar, dt)\n",
    "k1 = calc_k1(rho, kappa, gamma, dt)\n",
    "k2 = calc_k2(rho, gamma)\n",
    "k3 = calc_k3(rho, dt)\n",
    "\n",
    "for i in range(n_steps):\n",
    "    t[i+1] = t[i] + dt\n",
    "    c_bar = calc_c_bar(t[i+1], t[i], gamma, kappa)\n",
    "    kappa_bar = calc_kappa_bar(t[i+1], t[i], kappa, gamma, V[:, i])\n",
    "    \n",
    "    V[:, i+1] = c_bar * ncx2.rvs(delta, kappa_bar)\n",
    "    X[:, i+1] = X[:, i] + k0 + k1 * V[:, i] + k2 * V[:, i+1] + np.sqrt(k3 * V[:, i]) * Z[:, i]"
   ]
  },
  {
   "cell_type": "code",
   "execution_count": 17,
   "id": "84c35cc5",
   "metadata": {},
   "outputs": [],
   "source": [
    "strikes = np.arange(50, 150.1, 0.1)\n",
    "final_values = np.exp(X[:, -1])\n",
    "\n",
    "payoff_strikes = []\n",
    "\n",
    "for K in strikes:\n",
    "    payoffs = []\n",
    "    \n",
    "    for S in final_values:\n",
    "        payoffs.append(max(S - K, 0))\n",
    "    \n",
    "    payoff_strikes.append(np.exp(-r * T) * np.mean(payoffs))"
   ]
  },
  {
   "cell_type": "code",
   "execution_count": 20,
   "id": "8b4e105f",
   "metadata": {},
   "outputs": [
    {
     "data": {
      "text/plain": [
       "Text(0.5, 1.0, 'Heston Model Call Option Price')"
      ]
     },
     "execution_count": 20,
     "metadata": {},
     "output_type": "execute_result"
    },
    {
     "data": {
      "image/png": "[encoded data removed]",
      "text/plain": [
       "<Figure size 864x576 with 1 Axes>"
      ]
     },
     "metadata": {
      "needs_background": "light"
     },
     "output_type": "display_data"
    }
   ],
   "source": [
    "plt.figure(figsize=(12, 8))\n",
    "plt.plot(strikes, payoff_strikes)\n",
    "plt.xlabel('K')\n",
    "plt.ylabel('Call Option Value')\n",
    "plt.title('Heston Model Call Option Price')"
   ]
  },
  {
   "cell_type": "code",
   "execution_count": 21,
   "id": "7d67f4b2",
   "metadata": {},
   "outputs": [],
   "source": [
    "S0 = 100\n",
    "kappa = 0.5\n",
    "gamma = 1\n",
    "vbar = 0.04\n",
    "v0 = 0.04\n",
    "r = 0.1\n",
    "rho = -0.9\n",
    "T = 1\n",
    "dS0 = 0.01\n",
    "\n",
    "n_paths = 10000\n",
    "n_steps = 1000\n",
    "\n",
    "dt = T / n_steps\n",
    "\n",
    "Z = np.random.normal(0, 1, [n_paths, n_steps+1])\n",
    "X1 = np.zeros([n_paths, n_steps+1])\n",
    "X2 = X1.copy()\n",
    "V = X1.copy()\n",
    "\n",
    "X1[:, 0] = np.log(S0 + dS0)\n",
    "X2[:, 0] = np.log(S0 - dS0)\n",
    "\n",
    "t = np.zeros(n_steps+1)\n",
    "\n",
    "delta = calc_delta(kappa, vbar, gamma)\n",
    "k0 = calc_k0(r, rho, gamma, kappa, vbar, dt)\n",
    "k1 = calc_k1(rho, kappa, gamma, dt)\n",
    "k2 = calc_k2(rho, gamma)\n",
    "k3 = calc_k3(rho, dt)\n",
    "\n",
    "for i in range(n_steps):\n",
    "    t[i+1] = t[i] + dt\n",
    "    c_bar = calc_c_bar(t[i+1], t[i], gamma, kappa)\n",
    "    kappa_bar = calc_kappa_bar(t[i+1], t[i], kappa, gamma, V[:, i])\n",
    "    \n",
    "    V[:, i+1] = c_bar * ncx2.rvs(delta, kappa_bar)\n",
    "    X1[:, i+1] = X1[:, i] + k0 + k1 * V[:, i] + k2 * V[:, i+1] + np.sqrt(k3 * V[:, i]) * Z[:, i]\n",
    "    X2[:, i+1] = X2[:, i] + k0 + k1 * V[:, i] + k2 * V[:, i+1] + np.sqrt(k3 * V[:, i]) * Z[:, i]"
   ]
  },
  {
   "cell_type": "code",
   "execution_count": 22,
   "id": "b3aeb5c7",
   "metadata": {},
   "outputs": [],
   "source": [
    "S1 = np.exp(X1[:, -1])\n",
    "S2 = np.exp(X2[:, -1])\n",
    "K = 100\n",
    "\n",
    "payoff1, payoff2 = [], []\n",
    "\n",
    "for s1, s2 in zip(S1, S2): \n",
    "    payoff1.append(max(s1 - K, 0))\n",
    "    payoff2.append(max(s2 - K, 0))\n",
    "\n",
    "V1 = np.exp(-r * T) * np.mean(payoff1)\n",
    "V2 = np.exp(-r * T) * np.mean(payoff2)\n",
    "\n",
    "delta = (V1 - V2) / (2 * dS0)"
   ]
  },
  {
   "cell_type": "code",
   "execution_count": 23,
   "id": "e8289a94",
   "metadata": {},
   "outputs": [
    {
     "data": {
      "text/plain": [
       "0.9643717688526898"
      ]
     },
     "execution_count": 23,
     "metadata": {},
     "output_type": "execute_result"
    }
   ],
   "source": [
    "delta"
   ]
  },
  {
   "cell_type": "code",
   "execution_count": null,
   "id": "3a880742",
   "metadata": {},
   "outputs": [],
   "source": []
  }
 ],
 "metadata": {
  "kernelspec": {
   "display_name": "Python 3 (ipykernel)",
   "language": "python",
   "name": "python3"
  },
  "language_info": {
   "codemirror_mode": {
    "name": "ipython",
    "version": 3
   },
   "file_extension": ".py",
   "mimetype": "text/x-python",
   "name": "python",
   "nbconvert_exporter": "python",
   "pygments_lexer": "ipython3",
   "version": "3.8.11"
  }
 },
 "nbformat": 4,
 "nbformat_minor": 5
}
